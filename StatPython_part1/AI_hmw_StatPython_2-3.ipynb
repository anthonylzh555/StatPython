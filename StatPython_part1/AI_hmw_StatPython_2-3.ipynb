{
 "cells": [
  {
   "cell_type": "markdown",
   "metadata": {},
   "source": [
    "## 配合課程影片 hmwu_StatR-02.3\n",
    "### Exercise 2-3"
   ]
  },
  {
   "cell_type": "markdown",
   "metadata": {},
   "source": [
    "# 大數法則\n"
   ]
  },
  {
   "cell_type": "code",
   "execution_count": null,
   "metadata": {},
   "outputs": [],
   "source": [
    "import scipy.stats as stats\n",
    "import matplotlib.pyplot as plt\n",
    "import math\n",
    "import pandas as pd\n",
    "import numpy as np\n",
    "%matplotlib inline"
   ]
  },
  {
   "cell_type": "code",
   "execution_count": null,
   "metadata": {},
   "outputs": [],
   "source": [
    "# 請生成從1至800，且間隔5為的數列 sample.size（sequence）：\n",
    "sample_size = np.arange(1, 801, 5)\n",
    "print(sample_size)\n",
    "\n",
    "# 請生成長度為 m 的零向量 xbar（0 vector）：\n",
    "m = len(sample_size)\n",
    "print(m)\n",
    "\n",
    "xbar = np.zeros_like(sample_size, dtype = float)\n",
    "print(xbar)"
   ]
  },
  {
   "cell_type": "code",
   "execution_count": null,
   "metadata": {},
   "outputs": [],
   "source": [
    "# 利用 Bernoulli 試驗說明大數法則\n",
    "# 將 m 次 Bernoulli 試驗抽樣結果取平均後，依序填入零向量 xbar中：\n",
    "for i in range(m):\n",
    "    xbar[i] = stats.binom.rvs(1, 0.5, size = sample_size[i]).mean()\n",
    "\n",
    "print(xbar)"
   ]
  },
  {
   "cell_type": "code",
   "execution_count": null,
   "metadata": {},
   "outputs": [],
   "source": [
    "# 觀察 Bernoulli 試驗大數法則的視覺化結果：( 理論上平均值 h  = 0.5 )\n",
    "# Hint: x軸為sample.size，y軸為xbar\n",
    "plt.plot(sample_size, xbar, 'r--', linewidth = 1.25)\n",
    "plt.plot(sample_size, np.repeat(0.5, repeats = m), \"b--\")\n",
    "plt.xlabel('Number of observations, n')\n",
    "plt.ylabel('sample mean')\n",
    "plt.title(r'Law of Large Numbers')\n",
    "plt.show()"
   ]
  },
  {
   "cell_type": "code",
   "execution_count": null,
   "metadata": {},
   "outputs": [],
   "source": [
    "# 應用 CLT 計算通過人數 > 126 的機率\n",
    "z = (126./210. - 0.7) / np.sqrt(0.001)\n",
    "print(\"通過人數 >126 的機率：{0:0.6f}\".format(1 - stats.norm.cdf(z, loc = 0, scale = 1)))"
   ]
  },
  {
   "cell_type": "code",
   "execution_count": null,
   "metadata": {},
   "outputs": [],
   "source": [
    "#  請應用CLT計算「考生及格人數大於某數量的機率」之副程式 CLT_passprob：\n",
    "\n",
    "def CLT_passprob(x, n, p, digit):\n",
    "    # 樣本平均數 xbar：\n",
    "    xbar = x/n\n",
    "    \n",
    "    # 理論上的母體平均數 mu 與變異數 sigma2：\n",
    "    mu = p\n",
    "    sigma2 = p*(1-p)\n",
    "    \n",
    "    # 樣本的平均數 xbar.mu 與變異數 xbar.sigma2：\n",
    "    xbar_mu = mu\n",
    "    xbar_sigma2 = sigma2/n\n",
    "    \n",
    "    # 標準化 Z-Score：\n",
    "    z = (xbar - xbar_mu)/np.sqrt(xbar_sigma2)\n",
    "    zvalue = round(z, digit)\n",
    "    \n",
    "    # Z ~ N(0, 1)，計算 P(Z > zvalue) = right_prob：\n",
    "    right_prob = 1 - stats.norm.cdf(z, loc = 0, scale = 1)\n",
    "    \n",
    "    return {\"zvalue\": zvalue, \"CLT_prob\": right_prob}\n",
    "\n",
    "CLT_passprob(x = 126, n = 210, p = 0.7, digit = 6)"
   ]
  },
  {
   "cell_type": "code",
   "execution_count": null,
   "metadata": {},
   "outputs": [],
   "source": [
    "# 生出女兒，或生了3個孩子就停止，請計算有女兒的機率：\n",
    "# 生出女孩的機率 0.49，生出男孩 0.51\n",
    "# 女孩：0-48 / 男孩：49-99\n",
    "\n",
    "def girl_born(n, show_id):\n",
    "    # 女兒數量的起始計數 girl.count：\n",
    "    girl_count = 0\n",
    "    for i in range(n):\n",
    "        # 小孩總數量的起始計數 child.count：\n",
    "        child_count = 0\n",
    "\n",
    "        while True:\n",
    "            rn = np.random.randint(0, 100)\n",
    "            \n",
    "            if show_id:\n",
    "                print(\"({})\".format(rn), end=\"\")\n",
    "            # 當 rn <= 48時，判定為女孩：\n",
    "            is_girl = np.where(rn <= 48, True, False)\n",
    "            child_count += 1\n",
    "\n",
    "            if is_girl:\n",
    "                girl_count += 1\n",
    "                if show_id:\n",
    "                    print(\"女+\", end=\"\")\n",
    "                break\n",
    "                \n",
    "            elif child_count == 3:\n",
    "                # else if 當小孩總數量 child.count 為 3 時，結束計數：\n",
    "                if show_id:\n",
    "                    print(\"男\".format(rn), end=\"\")\n",
    "                break\n",
    "                \n",
    "            else:\n",
    "                if show_id:\n",
    "                    print(\"男\".format(rn), end=\"\")\n",
    "\n",
    "        if show_id == True:\n",
    "            print(\"\\n\")\n",
    "                \n",
    "                \n",
    "    # 重複實驗次數 n 組中，有生出女兒 girl.count 的比例 p：\n",
    "    p = girl_count / n\n",
    "    print('----------------------------')\n",
    "    print(p)\n",
    "    print('----------------------------')\n",
    "        \n",
    "girl_born(n = 10, show_id = True)"
   ]
  },
  {
   "cell_type": "markdown",
   "metadata": {},
   "source": [
    "## 挑戰題：手刻驗證中央極限定理"
   ]
  },
  {
   "cell_type": "code",
   "execution_count": null,
   "metadata": {},
   "outputs": [],
   "source": [
    "import numpy as np \n",
    "import pylab \n",
    "import scipy.stats as stats\n",
    "\n",
    "\n",
    "\n",
    "# Xi ~ U(umin, umax)，觀察樣本平均數的抽樣分配\n",
    "# 重複不同的樣本數，當樣本數 n.sample 越大，樣本平均數的抽樣分配越趨近於 CLT 的結論：\n",
    "\n",
    "def CLT_unif(umin, umax, n_sample, n_repeated):\n",
    "    # 請生成零矩陣（Zero Matrix），維度 n.sample * n.repeated：\n",
    "    RandomSample = np.zeros((n_sample, n_repeated))\n",
    "    fig, axs = plt.subplots(math.ceil(n_sample/5), 5, squeeze=False, sharey=True, figsize=(10,4*math.ceil(n_sample/5)))\n",
    "    # 每次抽樣 n.sample 個樣本，並將此過程重複操作 n.repeated 次：\n",
    "    for i in range(n_repeated):\n",
    "        # X_1, X_2, ...., X_n.sample ~ U(umin, umax)：rnumber is a vector\n",
    "        rnumber = stats.uniform.rvs(umin, umax, size = n_sample)\n",
    "        \n",
    "        # 將每次抽樣結果 rnumber 存入樣本矩陣 RandomSample 的每一行(column)：\n",
    "        RandomSample[:, i] = rnumber\n",
    "        \n",
    "    print(RandomSample.shape)\n",
    "    \n",
    "    # 以直方圖(Histogram)觀察每次抽樣的分配結果：\n",
    "    # 重複觀察抽樣分配結果 min(n.repeated, n.smaple) 次\n",
    "    for i in range(min(n_repeated, n_sample)):\n",
    "        title = str(i+1) + \" - th sampling\"\n",
    "        # 每次抽樣的分配結果已儲存於 RandomSample 的每一行(column)：\n",
    "        axs[i//5, i%5].set_title(title)\n",
    "        axs[i//5, i%5].hist(RandomSample[:, i], label = title)\n",
    "    plt.show()\n",
    "    # 請計算每一行的樣本平均值(column mean of sample)：\n",
    "    # 將每次抽樣的分配結果各自計算平均，並依序儲存於抽樣平均值向量 SampleMean\n",
    "    # Hint: 計算 RandomSample 每一行(column)的平均值\n",
    "    SampleMean = RandomSample.mean(axis = 0) \n",
    "    plt.hist(SampleMean, bins=30)\n",
    "    plt.show()\n",
    "    #qqnorm\n",
    "    stats.probplot(SampleMean, dist=\"norm\", plot=pylab)\n",
    "    pylab.show()\n",
    "    \n",
    "CLT_unif(5, 80, 1, 500)\n",
    "CLT_unif(5, 80, 5, 500)\n",
    "CLT_unif(5, 80, 10, 500)\n",
    "CLT_unif(5, 80, 50, 500)"
   ]
  },
  {
   "cell_type": "code",
   "execution_count": null,
   "metadata": {},
   "outputs": [],
   "source": []
  }
 ],
 "metadata": {
  "kernelspec": {
   "display_name": "Python 3",
   "language": "python",
   "name": "python3"
  },
  "language_info": {
   "codemirror_mode": {
    "name": "ipython",
    "version": 3
   },
   "file_extension": ".py",
   "mimetype": "text/x-python",
   "name": "python",
   "nbconvert_exporter": "python",
   "pygments_lexer": "ipython3",
   "version": "3.6.4"
  }
 },
 "nbformat": 4,
 "nbformat_minor": 2
}
