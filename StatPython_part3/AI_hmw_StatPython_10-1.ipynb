{
 "cells": [
  {
   "cell_type": "markdown",
   "metadata": {},
   "source": [
    "### 配合課程影片 hmwu_StatR-10\n",
    "### Exercise 10.1"
   ]
  },
  {
   "cell_type": "code",
   "execution_count": null,
   "metadata": {},
   "outputs": [],
   "source": [
    "import pandas as pd\n",
    "import numpy as np\n",
    "import matplotlib.pylab as plt\n",
    "%matplotlib inline"
   ]
  },
  {
   "cell_type": "code",
   "execution_count": null,
   "metadata": {},
   "outputs": [],
   "source": [
    "spe = pd.read_csv('Data/DoubsSpe.csv', index_col = 0)\n",
    "env = pd.read_csv('Data/DoubsEnv.csv', index_col = 0)\n",
    "spa = pd.read_csv('Data/DoubsSpa.csv', index_col = 0)"
   ]
  },
  {
   "cell_type": "code",
   "execution_count": null,
   "metadata": {},
   "outputs": [],
   "source": [
    "def df_range(data):\n",
    "    minimum, maximum = min(data.min()), max(data.max())\n",
    "    return minimum, maximum"
   ]
  },
  {
   "cell_type": "code",
   "execution_count": null,
   "metadata": {},
   "outputs": [],
   "source": [
    "# 16/47\n",
    "#找出spe資料集最大及最小值。\n",
    "df_range(spe)"
   ]
  },
  {
   "cell_type": "code",
   "execution_count": null,
   "metadata": {},
   "outputs": [],
   "source": [
    "ab = pd.value_counts(spe.values.flatten())"
   ]
  },
  {
   "cell_type": "code",
   "execution_count": null,
   "metadata": {},
   "outputs": [],
   "source": [
    "abundance_class = pd.value_counts(spe.values.flatten()).index\n",
    "frequency = pd.value_counts(spe.values.flatten()).values\n",
    "plt.title(\"Distribution of abundance classes\")\n",
    "plt.xlabel(\"Abundance class\")\n",
    "plt.ylabel(\"Frequency\")\n",
    "plt.bar(x = abundance_class, height = frequency)"
   ]
  },
  {
   "cell_type": "code",
   "execution_count": null,
   "metadata": {},
   "outputs": [],
   "source": [
    "#算出spe中，豐富度為0的總和。\n",
    "print('spe中，豐富度為0的總和: {}'.format(ab.loc[0]))\n",
    "#算出spe中，豐富度為0的總和的比例。\n",
    "print('spe中，豐富度為0的總和的比例: {}'.format(ab.loc[0]/(spe.shape[0]*spe.shape[1])))"
   ]
  },
  {
   "cell_type": "code",
   "execution_count": null,
   "metadata": {},
   "outputs": [],
   "source": [
    "# 17/47\n",
    "plt.title(\"Site Locations\")\n",
    "plt.xlabel(\"x coordinate (km)\")\n",
    "plt.ylabel(\"y coordinate (km)\")\n",
    "plt.plot(spa['x'], spa['y'], color = 'cyan');"
   ]
  },
  {
   "cell_type": "code",
   "execution_count": null,
   "metadata": {},
   "outputs": [],
   "source": [
    "#請畫出env資料表中，das跟alt欄位的對應圖(x=das,y=alt)\n",
    "plt.title(\"das vs. alt\")\n",
    "plt.xlabel(\"das\")\n",
    "plt.ylabel(\"alt\")\n",
    "plt.plot(env['das'], env['alt'], color = 'black');"
   ]
  },
  {
   "cell_type": "code",
   "execution_count": null,
   "metadata": {},
   "outputs": [],
   "source": [
    "plt.title(\"Site Locations\")\n",
    "plt.xlabel(\"x coordinate (km)\")\n",
    "plt.ylabel(\"y coordinate (km)\")\n",
    "plt.plot(spa['x'], spa['y'], color = 'cyan');"
   ]
  },
  {
   "cell_type": "code",
   "execution_count": null,
   "metadata": {},
   "outputs": [],
   "source": [
    "# 18/47\n",
    "#了解其中參數s的應用，並請將spe資料中的\"TRU\",\"OMB\",\"BAR\",\"BCO\"畫到圖上\n",
    "xl = \"x coordinate (km)\"\n",
    "yl = \"y coordinate (km)\"\n",
    "title = [\"Brown trout\", \"Grayling\", \"Barbel\", \"Common bream\"]\n",
    "spe_data = [spe['TRU'], spe['OMB'], spe['BAR'], spe['BCO']]\n",
    "fig, ax = plt.subplots(nrows = 1, ncols = 4, sharey = True, figsize = (10, 5))\n",
    "\n",
    "for i in range(4):\n",
    "    ax[i].set_title(title[i])\n",
    "    ax[i].plot(spa['x'], spa['y'], color = 'cyan')\n",
    "    ax[i].scatter(spa['x'], spa['y'], s = spe_data[i]**4)\n",
    "    ax[i].set_xlabel(xl)\n",
    "    ax[i].set_ylabel(yl) \n"
   ]
  },
  {
   "cell_type": "code",
   "execution_count": null,
   "metadata": {},
   "outputs": [],
   "source": [
    "# 19/47\n",
    "#請計算spe中，各魚種在各地點的次數總和。\n",
    "spe_pres = spe.astype(bool).sum(axis = 0)\n",
    "spe_pres.sort_values()\n",
    "spe_relf = 100*spe_pres/spe.shape[0]\n",
    "spe_relf.round(1)"
   ]
  },
  {
   "cell_type": "code",
   "execution_count": null,
   "metadata": {},
   "outputs": [],
   "source": [
    "# 20/47\n",
    "fig, ax = plt.subplots(nrows = 1, ncols = 2, figsize = (10, 5))\n",
    "\n",
    "ax[0].hist(spe_pres, bins = 6, range = (0, 30))\n",
    "ax[0].set_xlabel(\"Number of occurrences\")\n",
    "ax[0].set_ylabel(\"Number of species\")\n",
    "ax[1].hist(spe_pres, bins = 15, range = (0, 30))\n",
    "ax[1].set_xlabel(\"Number of occurrences\")\n",
    "ax[1].set_ylabel(\"Number of species\")"
   ]
  },
  {
   "cell_type": "code",
   "execution_count": null,
   "metadata": {},
   "outputs": [],
   "source": [
    "plt.hist(spe_relf, range = (0, 100))\n",
    "plt.xlabel(\"Frequency of occurrences (%)\")\n",
    "plt.ylabel(\"Number of species\")"
   ]
  },
  {
   "cell_type": "code",
   "execution_count": null,
   "metadata": {},
   "outputs": [],
   "source": [
    "# 21/47\n",
    "sit_pres = spe.astype(bool).sum(axis = 1)\n",
    "sit_pres.sort_values()"
   ]
  },
  {
   "cell_type": "code",
   "execution_count": null,
   "metadata": {},
   "outputs": [],
   "source": [
    "sit_pres.index"
   ]
  },
  {
   "cell_type": "code",
   "execution_count": null,
   "metadata": {},
   "outputs": [],
   "source": [
    "plt.figure(figsize = (10, 5))\n",
    "plt.step(sit_pres.index, sit_pres.values)\n",
    "# plt.text(sit_pres.index, sit_pres.values, s=[0]*30)\n",
    "for i in range(30):\n",
    "    plt.text(sit_pres.index[i]-1, sit_pres.values[i], s = i, fontsize = 10)\n",
    "    "
   ]
  },
  {
   "cell_type": "code",
   "execution_count": null,
   "metadata": {},
   "outputs": [],
   "source": [
    "fig, ax = plt.subplots(nrows = 1, ncols = 2, figsize = (20, 5))\n",
    "ax[0].step(sit_pres.index, sit_pres.values)\n",
    "ax[0].set_title(\"Species Richness vs. \\n Upstream-Downstream Gradient\")\n",
    "ax[0].set_xlabel(\"Positions of sites along the river\")\n",
    "ax[0].set_ylabel(\"Species richness\")   \n",
    "for i in range(30):\n",
    "    ax[0].text(sit_pres.index[i]-1, sit_pres.values[i], s = i, fontsize = 10, color = 'red')\n",
    "    \n",
    "ax[1].plot(spa['x'], spa['y'])\n",
    "ax[1].scatter(spa['x'], spa['y'], s = (5*sit_pres/sit_pres.max())*50)\n",
    "ax[1].set_xlabel(xl)\n",
    "ax[1].set_ylabel(yl)\n"
   ]
  },
  {
   "cell_type": "code",
   "execution_count": null,
   "metadata": {},
   "outputs": [],
   "source": [
    "# 24/47\n",
    "#將資料轉為0(無)、1(有)。\n",
    "       \n",
    "spe.apply(lambda  x:x>0 if  1 else 0).iloc[0:5, 1:4]\n",
    "\n"
   ]
  },
  {
   "cell_type": "code",
   "execution_count": null,
   "metadata": {},
   "outputs": [],
   "source": [
    "#利用函式decostand，將各魚種的欄位除上該欄位總合，算出相對豐富程度百分比。\n",
    "from scipy import stats\n",
    "spe.apply(lambda  x:x/x.sum()).iloc[0:5, 1:4]\n",
    "\n"
   ]
  },
  {
   "cell_type": "code",
   "execution_count": null,
   "metadata": {},
   "outputs": [],
   "source": [
    "spe_sum = spe.apply(lambda  x:x/x.sum())\n",
    "spe_sum.apply(lambda  x:x.sum())"
   ]
  },
  {
   "cell_type": "code",
   "execution_count": null,
   "metadata": {},
   "outputs": [],
   "source": [
    "# 26/47\n",
    "#利用函式decostand，將每個觀測站(1-30)除以每個觀測站的(每行)總合，算出該觀測站各魚種的豐富程度百分比。\n",
    "spe.apply(lambda  x:x/x.sum(), axis = 1).iloc[0:5, 1:4]\n",
    "\n"
   ]
  },
  {
   "cell_type": "code",
   "execution_count": null,
   "metadata": {},
   "outputs": [],
   "source": [
    "spe_rel = spe.apply(lambda  x:x/x.sum(), axis = 0)\n",
    "spe_rel.apply(lambda  x:x.sum())"
   ]
  },
  {
   "cell_type": "code",
   "execution_count": null,
   "metadata": {},
   "outputs": [],
   "source": [
    "# 27/47\n",
    "spe_hel = spe.apply(lambda  x:x.sum(), axis = 1)\n",
    "spe.apply(lambda x:(x/spe_hel)**0.5, axis = 0).iloc[0:5, 1:4]\n",
    "\n",
    "\n",
    "\n"
   ]
  },
  {
   "cell_type": "code",
   "execution_count": null,
   "metadata": {},
   "outputs": [],
   "source": [
    "spe_hel = spe.apply(lambda  x: x/x.sum(), axis = 1)\n",
    "spe_hel.apply(lambda  x:x**0.5).iloc[0:5, 1:4]"
   ]
  },
  {
   "cell_type": "code",
   "execution_count": null,
   "metadata": {},
   "outputs": [],
   "source": [
    "# 28/47\n",
    "\n",
    "from scipy.stats import chisquare\n",
    "\n",
    "spe = spe.fillna(0)\n",
    "total_sum = []\n",
    "spe_fill0 = spe.apply(lambda  x: np.sum(x), axis = 1)\n",
    "for i in range(1,31):\n",
    "    total_sum.append(spe_fill0[i])\n",
    "\n",
    "total_sum = np.sum(total_sum)\n",
    "total_sum_sqrt = total_sum**0.5\n",
    "col_sum = spe.apply(lambda  x: x.sum()**0.5, axis = 0)\n",
    "row_sum = spe.apply(lambda  x: x.sum(), axis = 1)\n",
    "chi = spe.apply(lambda  x: x/row_sum, axis = 0)\n",
    "chi = chi.apply(lambda  x: total_sum_sqrt*x/col_sum, axis = 1)\n",
    "chi.iloc[0:5, 1:4]\n",
    "\n",
    "\n"
   ]
  },
  {
   "cell_type": "code",
   "execution_count": null,
   "metadata": {},
   "outputs": [],
   "source": [
    "spe = spe.fillna(0)\n",
    "row_max = spe.apply(lambda  x: x.max(), axis = 0)\n",
    "wis = spe.apply(lambda  x: x/row_max, axis = 1)\n",
    "wis = wis.apply(lambda  x: x/x.sum(), axis = 1)\n",
    "wis.iloc[0:5, 1:4]\n"
   ]
  },
  {
   "cell_type": "code",
   "execution_count": null,
   "metadata": {},
   "outputs": [],
   "source": [
    "# 29/47\n",
    "#將上述各種轉換方式畫成boxplot。\n",
    "\n",
    "import math\n",
    "fig, ax = plt.subplots(nrows = 1, ncols = 4, figsize = (12, 5))\n",
    "\n",
    "spe_max = spe.apply(lambda  x:x/x.max())\n",
    "spe_max = spe_max.fillna(0)\n",
    "\n",
    "spe_relsp = spe.apply(lambda  x:x/x.sum(), axis = 0)\n",
    "spe_relsp = spe_relsp.fillna(0)\n",
    "\n",
    "spe_rel = spe.apply(lambda  x:x/x.sum(), axis = 1)\n",
    "spe_rel = spe_rel.fillna(0)\n",
    "\n",
    "spe_norm = spe.apply(lambda  x:x/x.sum(), axis = 1)\n",
    "spe_norm = spe_norm.apply(lambda x:x**0.5)\n",
    "spe_norm = spe_norm.fillna(0)\n",
    "\n",
    "spe_hel = spe.apply(lambda  x:x.sum(),axis = 1)\n",
    "spe_hel_= spe.apply(lambda x:(x/spe_hel)**0.5,axis=0)\n",
    "spe_hel =spe_hel_.fillna(0)\n",
    "\n",
    "spe_loc_log1p = spe['LOC'].apply(lambda  x:math.log1p(x))\n",
    "spe_sqrt = spe.apply(lambda  x:x**0.5)\n",
    "\n",
    "spe_chi = chi.iloc[0:5, 1:4]\n",
    "spe_wis = wis.iloc[0:5, 1:4]\n",
    "\n",
    "\n",
    "\n",
    "ax0 = pd.DataFrame([spe['LOC'], spe_sqrt['LOC'], spe_loc_log1p])\n",
    "ax1 = pd.DataFrame([spe_max['LOC'], spe_relsp['LOC']])\n",
    "ax2 = pd.DataFrame([spe_hel['LOC'], spe_rel['LOC'], spe_norm['LOC']])\n",
    "ax3 = pd.DataFrame([spe_chi['LOC'], spe_wis['LOC']])\n",
    "\n",
    "data_set_title = ['Simple transformation', 'Standardization by species', 'Standardization by sites', 'Double standardization']\n",
    "data_boxpolt = [ax0, ax1, ax2, ax3]\n",
    "colors =['wheat', 'green', 'blue', 'orange']\n",
    "\n",
    "\n",
    "for i in range(4):\n",
    "    ax[i].set_title(data_set_title[i])\n",
    "    ax_set = ax[i].boxplot(data_boxpolt[i], patch_artist = True)\n",
    "    ax[i].set_xlabel(\"Number of occurrences\")\n",
    "    ax[i].set_ylabel(\"Number of species\")\n",
    "    plt.setp(ax_set['boxes'], color = colors[i])\n",
    "\n"
   ]
  },
  {
   "cell_type": "code",
   "execution_count": null,
   "metadata": {},
   "outputs": [],
   "source": [
    "fig, ax = plt.subplots(nrows = 1, ncols = 4, figsize = (20, 5))\n",
    "\n",
    "spe_sqrt = spe.apply(lambda  x:x**0.5)\n",
    "#spe_log1p = spe['LOC'].apply(lambda  x:math.log(x,10))\n",
    "\n",
    "d = {}\n",
    "data_set = [spe, spe_max, spe_hel, chi]\n",
    "data_set_meta = ['TRU', 'OMB', 'BCO', 'BAR', 'LOC']\n",
    "data_set_title = ['Raw data', 'Species profiles (max)', 'Site profiles (Hellinger)', 'Double profiles (Chi-square)', 'Double profiles (Chi-square)']\n",
    "\n",
    "\n",
    "for i in range(4):\n",
    "    for j in range(5):\n",
    "        ax[i].plot(env['das'], data_set[i][data_set_meta[j]])\n",
    "        ax[i].set_xlabel('Distance from the source [km]')\n",
    "        ax[i].set_ylabel('Standardized abundance')\n",
    "        ax[i].set_title(data_set_title[i])\n",
    "\n",
    "\n",
    "\n",
    "# ax[2].plot(env['das'], spe_hel['TRU'],)\n",
    "# ax[2].plot(env['das'], spe_hel['OMB'],)\n",
    "# ax[2].plot(env['das'], spe_hel['BCO'])\n",
    "# ax[2].plot(env['das'], spe_hel['BAR'])\n",
    "# ax[2].plot(env['das'], spe_hel['LOC'])\n",
    "\n",
    "\n"
   ]
  },
  {
   "cell_type": "code",
   "execution_count": null,
   "metadata": {},
   "outputs": [],
   "source": [
    "# 32/47\n",
    "#將環境變數一起視覺化出來(海拔、水道大小、溶氧量等等。)\n",
    "\n",
    "\n",
    "fig, ax = plt.subplots(nrows = 1, ncols = 4, sharey = True, figsize = (13, 5))\n",
    "env_alt = env['alt']\n",
    "env_deb = env['deb']\n",
    "env_oxy = env['oxy']\n",
    "env_nit = env['nit']\n",
    "\n",
    "env_data = [env['alt'], env['deb'], env['oxy'], env['nit']]\n",
    "env_color = ['red', 'blue', 'green', 'brown']\n",
    "env_main = ['Altitude', 'Discharge', 'Oxygen', 'Nitrate']\n",
    "\n",
    "for i in range(4):\n",
    "    ax[i].set_xlabel('x')\n",
    "    ax[i].set_ylabel('y')\n",
    "    ax[i].set_title(env_main[i])\n",
    "    ax[i].plot(spa['x'], spa['y'], color = 'cyan')\n",
    "    ax[i].scatter(spa['x'], spa['y'], s = (5*env_data[i]/env_data[i].max())*150, color = env_color[i])\n",
    "\n"
   ]
  },
  {
   "cell_type": "code",
   "execution_count": null,
   "metadata": {},
   "outputs": [],
   "source": [
    "# 33/47\n",
    "#將剛才幾個環境變數畫成線圖，藉由探索，是否能解釋上下游的一些關係？\n",
    "\n",
    "fig, ax = plt.subplots(nrows = 1, ncols = 4, sharey = True, figsize = (12, 6))\n",
    "\n",
    "plt.subplot(141)\n",
    "plt.title(\"Altitude\")\n",
    "plt.xlabel('Distance from the source (km)')\n",
    "plt.ylabel('Altitude (m)')\n",
    "plt.plot(env['das'], env['alt'], color = 'red')\n",
    "\n",
    "plt.subplot(142)\n",
    "plt.title(\"Discharge\")\n",
    "plt.xlabel('Distance from the source (km)')\n",
    "plt.ylabel('Discharge (m3/s)')\n",
    "plt.plot(env['das'], env['deb'], color = 'blue')\n",
    "\n",
    "plt.subplot(143)\n",
    "plt.title(\"Oxygen\")\n",
    "plt.xlabel('Distance from the source (km)')\n",
    "plt.ylabel('Oxygen (mg/L)')\n",
    "plt.plot(env['das'], env['oxy'], color = 'green')\n",
    "\n",
    "plt.subplot(144)\n",
    "plt.title(\"Nitrate\")\n",
    "plt.xlabel('Distance from the source (km)')\n",
    "plt.ylabel('Nitrate (mg/L)')\n",
    "plt.plot(env['das'], env['nit'], color = 'brown')\n"
   ]
  },
  {
   "cell_type": "code",
   "execution_count": null,
   "metadata": {},
   "outputs": [],
   "source": [
    "# 34/47\n",
    "#畫出各個環境變數彼此之間的散佈圖。\n",
    "\n",
    "import matplotlib.pyplot as plt \n",
    "import seaborn as sns\n",
    "\n",
    "\n",
    "# axes = pd.tools.plotting.scatter_matrix(env, alpha = 0.2, figsize = (10, 6))\n",
    "# plt.tight_layout()\n",
    "\n",
    "#sns.pairplot(env, kind = \"reg\")\n",
    "\n",
    "\n",
    "#sns.lmplot(x = \"das\", y = \"alt\", data = env, lowess = True)\n",
    "\n",
    "len(env.columns)\n",
    "\n",
    "for i in range(1, len(env.columns)):\n",
    "    for j in range(1, len(env.columns)):\n",
    "        sns.lmplot(x = env.columns[i], y = env.columns[j], data = env, lowess = True)\n",
    "\n",
    "#sns.lmplot(data = env, lowess = True);\n"
   ]
  },
  {
   "cell_type": "code",
   "execution_count": null,
   "metadata": {},
   "outputs": [],
   "source": [
    "# 35/47\n",
    "#由於pen中有離群值，對該變數做一些簡單的視覺化分析\n",
    "\n",
    "import math\n",
    "env_pen = env['pen']\n",
    "fig, ax = plt.subplots(nrows = 1, ncols = 4, figsize = (16, 5))\n",
    "\n",
    "\n",
    "plt.subplot(141)\n",
    "plt.title(\"Histogram of ln(env$pen)\")\n",
    "plt.xlabel('env_pen')\n",
    "plt.ylabel('frequency')\n",
    "plt.hist(env_pen, bins = 5, range = (0, 60), color = 'wheat')\n",
    "\n",
    "\n",
    "plt.subplot(142)\n",
    "plt.title(\"Histogram of ln(env$per)\")\n",
    "plt.xlabel('log(env_pen)')\n",
    "plt.ylabel('frequency')\n",
    "plt.hist(env_pen.apply(lambda  x:math.log(x)), bins = 6, range = (-2, 4), color = 'green')\n",
    "\n",
    "\n",
    "plt.subplot(143)\n",
    "plt.title(\"Boxplot of env$pen\")\n",
    "plt.xlabel('Distance from the source (km)')\n",
    "plt.ylabel('env$pen')\n",
    "plt.boxplot(env_pen, patch_artist = True)\n",
    "\n",
    "\n",
    "plt.subplot(144)\n",
    "plt.title(\"Boxplot of ln(env$pen)\")\n",
    "plt.xlabel('Distance from the source (km)')\n",
    "plt.ylabel('log(env$pen)')\n",
    "plt.boxplot(env_pen.apply(lambda  x:math.log(x)), patch_artist = True)"
   ]
  },
  {
   "cell_type": "code",
   "execution_count": null,
   "metadata": {},
   "outputs": [],
   "source": [
    "# 36/47\n",
    "#對每個變數做標準化。\n",
    "\n",
    "########################有誤差\n",
    "\n",
    "from scipy import stats\n",
    "\n",
    "env = pd.read_csv('DoubsEnv.csv', index_col = 0)\n",
    "env_zscore= env.apply(lambda  x:stats.zscore(x), axis = 0)\n",
    "env_zscore.apply(lambda  x:np.mean(x), axis = 0)"
   ]
  },
  {
   "cell_type": "code",
   "execution_count": null,
   "metadata": {},
   "outputs": [],
   "source": [
    "env_zscore.apply(lambda  x:np.std(x), axis = 0)"
   ]
  },
  {
   "cell_type": "code",
   "execution_count": null,
   "metadata": {},
   "outputs": [],
   "source": []
  },
  {
   "cell_type": "code",
   "execution_count": null,
   "metadata": {},
   "outputs": [],
   "source": []
  }
 ],
 "metadata": {
  "kernelspec": {
   "display_name": "Python 3",
   "language": "python",
   "name": "python3"
  },
  "language_info": {
   "codemirror_mode": {
    "name": "ipython",
    "version": 3
   },
   "file_extension": ".py",
   "mimetype": "text/x-python",
   "name": "python",
   "nbconvert_exporter": "python",
   "pygments_lexer": "ipython3",
   "version": "3.6.4"
  }
 },
 "nbformat": 4,
 "nbformat_minor": 2
}
